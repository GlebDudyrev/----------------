{
 "cells": [
  {
   "cell_type": "code",
   "execution_count": 6,
   "metadata": {},
   "outputs": [],
   "source": [
    "from currency import Currency\n",
    "import telebot\n",
    "\n",
    "import warnings\n",
    "warnings.filterwarnings('ignore')\n",
    "\n",
    "#Введите ваш apikey для ExchangeRate-API\n",
    "apikey = 'YOUR API KEY'\n",
    "#Введите токен вашего Телеграмм-бота\n",
    "token = 'YOUR TOKEN'"
   ]
  },
  {
   "cell_type": "markdown",
   "metadata": {},
   "source": [
    "# Описание задачи\n",
    "\n",
    "Описание: необходимо реализовать Телеграмм-бота для отслеживания курсов валют.\n",
    "\n",
    "Для начала я реализовал класс Currency, с помощью которого можно получать информацию о курсах валюты через API ExchangeRate-API, у этого API есть бесплатная версия, которая позволяет совершить 1500 запросов в течении месяца. Давайте посмотрим на пример работы этого класса."
   ]
  },
  {
   "cell_type": "code",
   "execution_count": 12,
   "metadata": {},
   "outputs": [
    {
     "name": "stdout",
     "output_type": "stream",
     "text": [
      "USD - 85.4515 RUB\n"
     ]
    }
   ],
   "source": [
    "#Создаем объект класса Currency\n",
    "currency = Currency(apikey)\n",
    "#Выводи курс доллара относительно рубля\n",
    "print(currency.get_currency_rate('USD'))"
   ]
  },
  {
   "cell_type": "markdown",
   "metadata": {},
   "source": [
    "Далее я перешел к созданию самого Телеграмм-бота. Для этого я инициализировал бота и получил его токен, такой, например, надо вставить выше, чтобы пример работал. С помощью библиотеки PyTelagramBotAPI. Создаем объект бота и передаем ему наш токен."
   ]
  },
  {
   "cell_type": "code",
   "execution_count": 13,
   "metadata": {},
   "outputs": [],
   "source": [
    "bot = telebot.TeleBot(token)"
   ]
  },
  {
   "cell_type": "markdown",
   "metadata": {},
   "source": [
    "Теперь необходимо написать функцию, которая будет обрабатывать взаимодействия пользователя с ботом. Он сделал ему следующий функционал:\n",
    "\n",
    "1. При написаниии /start или /info выводится приветственное сообщение и инструкция к использованию бота.\n",
    "2. Бот должен возвращать курс указанной валюты относительно рубля, я включил возможность запрашивать все валюты доступные в ExchangeRate-API, для этого я спарсил информацию о том, какие валюты доступны с официального сайта, пример результата работы этого кода ниже."
   ]
  },
  {
   "cell_type": "code",
   "execution_count": 15,
   "metadata": {},
   "outputs": [
    {
     "data": {
      "text/plain": [
       "array(['AED', 'AFN', 'ALL', 'AMD', 'ANG', 'AOA', 'ARS', 'AUD', 'AWG',\n",
       "       'AZN', 'BAM', 'BBD', 'BDT', 'BGN', 'BHD', 'BIF', 'BMD', 'BND',\n",
       "       'BOB', 'BRL', 'BSD', 'BTN', 'BWP', 'BYN', 'BZD', 'CAD', 'CDF',\n",
       "       'CHF', 'CLP', 'CNY', 'COP', 'CRC', 'CUP', 'CVE', 'CZK', 'DJF',\n",
       "       'DKK', 'DOP', 'DZD', 'EGP', 'ERN', 'ETB', 'EUR', 'FJD', 'FKP',\n",
       "       'FOK', 'GBP', 'GEL', 'GGP', 'GHS', 'GIP', 'GMD', 'GNF', 'GTQ',\n",
       "       'GYD', 'HKD', 'HNL', 'HRK', 'HTG', 'HUF', 'IDR', 'ILS', 'IMP',\n",
       "       'INR', 'IQD', 'IRR', 'ISK', 'JEP', 'JMD', 'JOD', 'JPY', 'KES',\n",
       "       'KGS', 'KHR', 'KID', 'KMF', 'KRW', 'KWD', 'KYD', 'KZT', 'LAK',\n",
       "       'LBP', 'LKR', 'LRD', 'LSL', 'LYD', 'MAD', 'MDL', 'MGA', 'MKD',\n",
       "       'MMK', 'MNT', 'MOP', 'MRU', 'MUR', 'MVR', 'MWK', 'MXN', 'MYR',\n",
       "       'MZN', 'NAD', 'NGN', 'NIO', 'NOK', 'NPR', 'NZD', 'OMR', 'PAB',\n",
       "       'PEN', 'PGK', 'PHP', 'PKR', 'PLN', 'PYG', 'QAR', 'RON', 'RSD',\n",
       "       'RUB', 'RWF', 'SAR', 'SBD', 'SCR', 'SDG', 'SEK', 'SGD', 'SHP',\n",
       "       'SLE', 'SOS', 'SRD', 'SSP', 'STN', 'SYP', 'SZL', 'THB', 'TJS',\n",
       "       'TMT', 'TND', 'TOP', 'TRY', 'TTD', 'TVD', 'TWD', 'TZS', 'UAH',\n",
       "       'UGX', 'USD', 'UYU', 'UZS', 'VES', 'VND', 'VUV', 'WST', 'XAF',\n",
       "       'XCD', 'XDR', 'XOF', 'XPF', 'YER', 'ZAR', 'ZMW', 'ZWL'],\n",
       "      dtype=object)"
      ]
     },
     "execution_count": 15,
     "metadata": {},
     "output_type": "execute_result"
    }
   ],
   "source": [
    "currency.currency_list"
   ]
  },
  {
   "cell_type": "markdown",
   "metadata": {},
   "source": [
    "Функция для обработки взаимодействий с пользователем имеет следующий вид."
   ]
  },
  {
   "cell_type": "code",
   "execution_count": null,
   "metadata": {},
   "outputs": [],
   "source": [
    "#Функция для обработки взаимодействий с пользователем\n",
    "@bot.message_handler(content_types=['text'])\n",
    "def handle_text(message):\n",
    "    #Разбиваем сообщение на слова\n",
    "    word_list = message.text.split()\n",
    "    #При вводе определенных команд возвращаем нужное сообщение\n",
    "    if word_list[0] == '/start' or word_list[0] == '/help':\n",
    "        answer = f'Для справочной информации используйте команду /help.\\n\\nПривет! Я бот, который подскажет тебе курс рубля к указанной валюте, чтобы получить курс введи команду:\\n\\n/rate [названия валюты]\\n\\nВот список доступных валют:\\n {currency.currency_list}'\n",
    "        bot.send_message(message.from_user.id, answer)\n",
    "    #Если нужно вывести курс валюты, то делаем это\n",
    "    elif word_list[0] == '/rate':\n",
    "        if len(word_list) == 2:\n",
    "            answer = currency.get_currency_rate(word_list[1])\n",
    "        else:\n",
    "            answer = 'Некорректный запрос'\n",
    "        bot.send_message(message.from_user.id, answer)"
   ]
  },
  {
   "cell_type": "markdown",
   "metadata": {},
   "source": [
    "Последний шагом запускаем постоянную обраюотку информации, которая приходит от сервера Телеграмм."
   ]
  },
  {
   "cell_type": "code",
   "execution_count": 16,
   "metadata": {},
   "outputs": [],
   "source": [
    "bot.polling(none_stop=True, interval=0)"
   ]
  },
  {
   "cell_type": "markdown",
   "metadata": {},
   "source": [
    "При желании, чтобы бот работал не на вашей локальной машине, его можно вывести на удаленный сервер.\n",
    "\n",
    "## Что можно было бы улучшить?\n",
    "\n",
    "1. Добавить информацию о изменении курса валюты за последний день, неделю и другие таймфреймы.\n",
    "2. Выводить различную информацию, например, объемы торгов этой пары валют.\n",
    "3. Возможность включить режим оповещений, когда цена остигнет какой-то цели.\n",
    "4. Также можно улучшить скорость работы, сделав запросы конкурентными с помощью библиотеки asyncio и aiohttp."
   ]
  }
 ],
 "metadata": {
  "kernelspec": {
   "display_name": "Python 3",
   "language": "python",
   "name": "python3"
  },
  "language_info": {
   "codemirror_mode": {
    "name": "ipython",
    "version": 3
   },
   "file_extension": ".py",
   "mimetype": "text/x-python",
   "name": "python",
   "nbconvert_exporter": "python",
   "pygments_lexer": "ipython3",
   "version": "3.11.5"
  }
 },
 "nbformat": 4,
 "nbformat_minor": 2
}
